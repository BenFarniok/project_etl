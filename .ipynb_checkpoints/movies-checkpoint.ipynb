{
 "cells": [
  {
   "cell_type": "code",
   "execution_count": 1,
   "metadata": {},
   "outputs": [],
   "source": [
    "import pymongo"
   ]
  },
  {
   "cell_type": "code",
   "execution_count": 2,
   "metadata": {},
   "outputs": [],
   "source": [
    "# The default port used by MongoDB is 27017\n",
    "# https://docs.mongodb.com/manual/reference/default-mongodb-port/\n",
    "conn = 'mongodb://localhost:27017'\n",
    "client = pymongo.MongoClient(conn)\n",
    "\n",
    "# Define the 'moviesDB' database in Mongo\n",
    "db = client.moviesDB"
   ]
  },
  {
   "cell_type": "code",
   "execution_count": 4,
   "metadata": {},
   "outputs": [
    {
     "name": "stdout",
     "output_type": "stream",
     "text": [
      "{'_id': ObjectId('5ed295f0593eb2603f1f7b71'), 'name': 'Top Gun', 'row': 'Tom Cruise'}\n",
      "{'_id': ObjectId('5ed295f3593eb2603f1f7b72'), 'name': 'Top Gun', 'row': 'Tom Cruise'}\n"
     ]
    }
   ],
   "source": [
    "# Insert a document into the 'students' collection\n",
    "db.movie.insert_one(\n",
    "    {\n",
    "        'name': 'Top Gun',\n",
    "        'row': 'Tom Cruise'\n",
    "    }\n",
    ")\n",
    "\n",
    "# query the classroom collection\n",
    "movie = db.movie.find()\n",
    "\n",
    "# see change in collection\n",
    "for name in movie:\n",
    "    print(name)"
   ]
  },
  {
   "cell_type": "code",
   "execution_count": null,
   "metadata": {},
   "outputs": [],
   "source": []
  }
 ],
 "metadata": {
  "kernelspec": {
   "display_name": "Python 3",
   "language": "python",
   "name": "python3"
  },
  "language_info": {
   "codemirror_mode": {
    "name": "ipython",
    "version": 3
   },
   "file_extension": ".py",
   "mimetype": "text/x-python",
   "name": "python",
   "nbconvert_exporter": "python",
   "pygments_lexer": "ipython3",
   "version": "3.7.6"
  }
 },
 "nbformat": 4,
 "nbformat_minor": 4
}
